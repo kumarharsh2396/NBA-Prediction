{
 "cells": [
  {
   "cell_type": "code",
   "execution_count": 27,
   "id": "fabe26ee",
   "metadata": {},
   "outputs": [],
   "source": [
    "\n",
    "import numpy as np\n",
    "import pandas as pd\n",
    "import matplotlib.pyplot as plt\n",
    "import seaborn as snb"
   ]
  },
  {
   "cell_type": "code",
   "execution_count": 28,
   "id": "97f163cc",
   "metadata": {},
   "outputs": [],
   "source": [
    "df_train = pd.read_csv('Train_data.csv')\n",
    "X_test_sub = pd.read_csv('Test_data.csv')"
   ]
  },
  {
   "cell_type": "code",
   "execution_count": 29,
   "id": "bdd9e64e",
   "metadata": {},
   "outputs": [
    {
     "data": {
      "text/html": [
       "<div>\n",
       "<style scoped>\n",
       "    .dataframe tbody tr th:only-of-type {\n",
       "        vertical-align: middle;\n",
       "    }\n",
       "\n",
       "    .dataframe tbody tr th {\n",
       "        vertical-align: top;\n",
       "    }\n",
       "\n",
       "    .dataframe thead th {\n",
       "        text-align: right;\n",
       "    }\n",
       "</style>\n",
       "<table border=\"1\" class=\"dataframe\">\n",
       "  <thead>\n",
       "    <tr style=\"text-align: right;\">\n",
       "      <th></th>\n",
       "      <th>GP</th>\n",
       "      <th>MIN</th>\n",
       "      <th>PTS</th>\n",
       "      <th>FGM</th>\n",
       "      <th>FGA</th>\n",
       "      <th>FG%</th>\n",
       "      <th>3P Made</th>\n",
       "      <th>3PA</th>\n",
       "      <th>3P%</th>\n",
       "      <th>FTM</th>\n",
       "      <th>FTA</th>\n",
       "      <th>FT%</th>\n",
       "      <th>OREB</th>\n",
       "      <th>DREB</th>\n",
       "      <th>REB</th>\n",
       "      <th>AST</th>\n",
       "      <th>STL</th>\n",
       "      <th>BLK</th>\n",
       "      <th>TOV</th>\n",
       "      <th>Target</th>\n",
       "    </tr>\n",
       "  </thead>\n",
       "  <tbody>\n",
       "    <tr>\n",
       "      <th>count</th>\n",
       "      <td>1094.000000</td>\n",
       "      <td>1094.000000</td>\n",
       "      <td>1094.000000</td>\n",
       "      <td>1094.000000</td>\n",
       "      <td>1094.000000</td>\n",
       "      <td>1094.000000</td>\n",
       "      <td>1094.000000</td>\n",
       "      <td>1094.000000</td>\n",
       "      <td>1094.000000</td>\n",
       "      <td>1094.000000</td>\n",
       "      <td>1094.000000</td>\n",
       "      <td>1094.000000</td>\n",
       "      <td>1094.000000</td>\n",
       "      <td>1094.000000</td>\n",
       "      <td>1094.000000</td>\n",
       "      <td>1094.000000</td>\n",
       "      <td>1094.000000</td>\n",
       "      <td>1094.000000</td>\n",
       "      <td>1094.000000</td>\n",
       "      <td>1094.000000</td>\n",
       "    </tr>\n",
       "    <tr>\n",
       "      <th>mean</th>\n",
       "      <td>59.003638</td>\n",
       "      <td>16.934223</td>\n",
       "      <td>6.504735</td>\n",
       "      <td>2.512659</td>\n",
       "      <td>5.647045</td>\n",
       "      <td>43.938412</td>\n",
       "      <td>0.241314</td>\n",
       "      <td>0.765053</td>\n",
       "      <td>19.024879</td>\n",
       "      <td>1.242091</td>\n",
       "      <td>1.742482</td>\n",
       "      <td>70.495912</td>\n",
       "      <td>0.959801</td>\n",
       "      <td>1.939536</td>\n",
       "      <td>2.895897</td>\n",
       "      <td>1.472166</td>\n",
       "      <td>0.589701</td>\n",
       "      <td>0.344304</td>\n",
       "      <td>1.150639</td>\n",
       "      <td>0.499086</td>\n",
       "    </tr>\n",
       "    <tr>\n",
       "      <th>std</th>\n",
       "      <td>17.204606</td>\n",
       "      <td>8.041254</td>\n",
       "      <td>4.162503</td>\n",
       "      <td>1.611190</td>\n",
       "      <td>3.424211</td>\n",
       "      <td>6.103595</td>\n",
       "      <td>0.363378</td>\n",
       "      <td>1.017742</td>\n",
       "      <td>15.532954</td>\n",
       "      <td>0.935817</td>\n",
       "      <td>1.269549</td>\n",
       "      <td>10.368922</td>\n",
       "      <td>0.771497</td>\n",
       "      <td>1.343454</td>\n",
       "      <td>2.040451</td>\n",
       "      <td>1.378816</td>\n",
       "      <td>0.386847</td>\n",
       "      <td>0.418940</td>\n",
       "      <td>0.688367</td>\n",
       "      <td>0.500228</td>\n",
       "    </tr>\n",
       "    <tr>\n",
       "      <th>min</th>\n",
       "      <td>11.000000</td>\n",
       "      <td>3.100000</td>\n",
       "      <td>1.100000</td>\n",
       "      <td>0.400000</td>\n",
       "      <td>1.000000</td>\n",
       "      <td>25.000000</td>\n",
       "      <td>0.000000</td>\n",
       "      <td>0.000000</td>\n",
       "      <td>0.000000</td>\n",
       "      <td>0.000000</td>\n",
       "      <td>0.000000</td>\n",
       "      <td>0.000000</td>\n",
       "      <td>0.000000</td>\n",
       "      <td>0.200000</td>\n",
       "      <td>0.300000</td>\n",
       "      <td>0.000000</td>\n",
       "      <td>0.000000</td>\n",
       "      <td>0.000000</td>\n",
       "      <td>0.100000</td>\n",
       "      <td>0.000000</td>\n",
       "    </tr>\n",
       "    <tr>\n",
       "      <th>25%</th>\n",
       "      <td>46.407281</td>\n",
       "      <td>10.494201</td>\n",
       "      <td>3.588383</td>\n",
       "      <td>1.400000</td>\n",
       "      <td>3.200000</td>\n",
       "      <td>40.000000</td>\n",
       "      <td>0.000000</td>\n",
       "      <td>0.000000</td>\n",
       "      <td>0.000000</td>\n",
       "      <td>0.600000</td>\n",
       "      <td>0.900000</td>\n",
       "      <td>64.900000</td>\n",
       "      <td>0.400000</td>\n",
       "      <td>1.000000</td>\n",
       "      <td>1.406374</td>\n",
       "      <td>0.600000</td>\n",
       "      <td>0.300000</td>\n",
       "      <td>0.100000</td>\n",
       "      <td>0.700000</td>\n",
       "      <td>0.000000</td>\n",
       "    </tr>\n",
       "    <tr>\n",
       "      <th>50%</th>\n",
       "      <td>59.203856</td>\n",
       "      <td>15.300000</td>\n",
       "      <td>5.222142</td>\n",
       "      <td>2.000000</td>\n",
       "      <td>4.600000</td>\n",
       "      <td>43.687580</td>\n",
       "      <td>0.100000</td>\n",
       "      <td>0.300000</td>\n",
       "      <td>22.500000</td>\n",
       "      <td>1.000000</td>\n",
       "      <td>1.400000</td>\n",
       "      <td>71.500000</td>\n",
       "      <td>0.700000</td>\n",
       "      <td>1.600000</td>\n",
       "      <td>2.284998</td>\n",
       "      <td>1.009757</td>\n",
       "      <td>0.500000</td>\n",
       "      <td>0.200000</td>\n",
       "      <td>0.984544</td>\n",
       "      <td>0.000000</td>\n",
       "    </tr>\n",
       "    <tr>\n",
       "      <th>75%</th>\n",
       "      <td>76.000000</td>\n",
       "      <td>21.841625</td>\n",
       "      <td>8.300000</td>\n",
       "      <td>3.200000</td>\n",
       "      <td>6.975000</td>\n",
       "      <td>47.700000</td>\n",
       "      <td>0.388201</td>\n",
       "      <td>1.125894</td>\n",
       "      <td>32.300000</td>\n",
       "      <td>1.600000</td>\n",
       "      <td>2.200000</td>\n",
       "      <td>77.400000</td>\n",
       "      <td>1.300000</td>\n",
       "      <td>2.500000</td>\n",
       "      <td>3.700000</td>\n",
       "      <td>1.900000</td>\n",
       "      <td>0.800000</td>\n",
       "      <td>0.400000</td>\n",
       "      <td>1.400000</td>\n",
       "      <td>1.000000</td>\n",
       "    </tr>\n",
       "    <tr>\n",
       "      <th>max</th>\n",
       "      <td>82.000000</td>\n",
       "      <td>40.900000</td>\n",
       "      <td>24.300000</td>\n",
       "      <td>9.000000</td>\n",
       "      <td>18.900000</td>\n",
       "      <td>73.700000</td>\n",
       "      <td>2.300000</td>\n",
       "      <td>6.500000</td>\n",
       "      <td>100.000000</td>\n",
       "      <td>7.500000</td>\n",
       "      <td>10.200000</td>\n",
       "      <td>100.000000</td>\n",
       "      <td>5.300000</td>\n",
       "      <td>9.600000</td>\n",
       "      <td>13.900000</td>\n",
       "      <td>10.600000</td>\n",
       "      <td>2.500000</td>\n",
       "      <td>3.900000</td>\n",
       "      <td>4.200000</td>\n",
       "      <td>1.000000</td>\n",
       "    </tr>\n",
       "  </tbody>\n",
       "</table>\n",
       "</div>"
      ],
      "text/plain": [
       "                GP          MIN          PTS          FGM          FGA  \\\n",
       "count  1094.000000  1094.000000  1094.000000  1094.000000  1094.000000   \n",
       "mean     59.003638    16.934223     6.504735     2.512659     5.647045   \n",
       "std      17.204606     8.041254     4.162503     1.611190     3.424211   \n",
       "min      11.000000     3.100000     1.100000     0.400000     1.000000   \n",
       "25%      46.407281    10.494201     3.588383     1.400000     3.200000   \n",
       "50%      59.203856    15.300000     5.222142     2.000000     4.600000   \n",
       "75%      76.000000    21.841625     8.300000     3.200000     6.975000   \n",
       "max      82.000000    40.900000    24.300000     9.000000    18.900000   \n",
       "\n",
       "               FG%      3P Made          3PA          3P%          FTM  \\\n",
       "count  1094.000000  1094.000000  1094.000000  1094.000000  1094.000000   \n",
       "mean     43.938412     0.241314     0.765053    19.024879     1.242091   \n",
       "std       6.103595     0.363378     1.017742    15.532954     0.935817   \n",
       "min      25.000000     0.000000     0.000000     0.000000     0.000000   \n",
       "25%      40.000000     0.000000     0.000000     0.000000     0.600000   \n",
       "50%      43.687580     0.100000     0.300000    22.500000     1.000000   \n",
       "75%      47.700000     0.388201     1.125894    32.300000     1.600000   \n",
       "max      73.700000     2.300000     6.500000   100.000000     7.500000   \n",
       "\n",
       "               FTA          FT%         OREB         DREB          REB  \\\n",
       "count  1094.000000  1094.000000  1094.000000  1094.000000  1094.000000   \n",
       "mean      1.742482    70.495912     0.959801     1.939536     2.895897   \n",
       "std       1.269549    10.368922     0.771497     1.343454     2.040451   \n",
       "min       0.000000     0.000000     0.000000     0.200000     0.300000   \n",
       "25%       0.900000    64.900000     0.400000     1.000000     1.406374   \n",
       "50%       1.400000    71.500000     0.700000     1.600000     2.284998   \n",
       "75%       2.200000    77.400000     1.300000     2.500000     3.700000   \n",
       "max      10.200000   100.000000     5.300000     9.600000    13.900000   \n",
       "\n",
       "               AST          STL          BLK          TOV       Target  \n",
       "count  1094.000000  1094.000000  1094.000000  1094.000000  1094.000000  \n",
       "mean      1.472166     0.589701     0.344304     1.150639     0.499086  \n",
       "std       1.378816     0.386847     0.418940     0.688367     0.500228  \n",
       "min       0.000000     0.000000     0.000000     0.100000     0.000000  \n",
       "25%       0.600000     0.300000     0.100000     0.700000     0.000000  \n",
       "50%       1.009757     0.500000     0.200000     0.984544     0.000000  \n",
       "75%       1.900000     0.800000     0.400000     1.400000     1.000000  \n",
       "max      10.600000     2.500000     3.900000     4.200000     1.000000  "
      ]
     },
     "execution_count": 29,
     "metadata": {},
     "output_type": "execute_result"
    }
   ],
   "source": [
    "df_train.drop_duplicates(inplace=True)\n",
    "df_train.describe()"
   ]
  },
  {
   "cell_type": "markdown",
   "id": "2f45bd9d",
   "metadata": {},
   "source": [
    "df_train.describe()"
   ]
  },
  {
   "cell_type": "code",
   "execution_count": 30,
   "id": "fb4be813",
   "metadata": {},
   "outputs": [],
   "source": [
    "from pandas_profiling import ProfileReport\n"
   ]
  },
  {
   "cell_type": "code",
   "execution_count": 5,
   "id": "4f13a107",
   "metadata": {},
   "outputs": [
    {
     "data": {
      "application/vnd.jupyter.widget-view+json": {
       "model_id": "586be9c76d204f98a4bc983f7d04ffc1",
       "version_major": 2,
       "version_minor": 0
      },
      "text/plain": [
       "Summarize dataset:   0%|          | 0/5 [00:00<?, ?it/s]"
      ]
     },
     "metadata": {},
     "output_type": "display_data"
    },
    {
     "data": {
      "application/vnd.jupyter.widget-view+json": {
       "model_id": "69016618176542829ab096207d16f843",
       "version_major": 2,
       "version_minor": 0
      },
      "text/plain": [
       "Generate report structure:   0%|          | 0/1 [00:00<?, ?it/s]"
      ]
     },
     "metadata": {},
     "output_type": "display_data"
    },
    {
     "data": {
      "application/vnd.jupyter.widget-view+json": {
       "model_id": "",
       "version_major": 2,
       "version_minor": 0
      },
      "text/plain": [
       "Render widgets:   0%|          | 0/1 [00:00<?, ?it/s]"
      ]
     },
     "metadata": {},
     "output_type": "display_data"
    },
    {
     "data": {
      "application/vnd.jupyter.widget-view+json": {
       "model_id": "6a0d63a1024b4b1db00a7195aa01a0a2",
       "version_major": 2,
       "version_minor": 0
      },
      "text/plain": [
       "VBox(children=(Tab(children=(Tab(children=(GridBox(children=(VBox(children=(GridspecLayout(children=(HTML(valu…"
      ]
     },
     "metadata": {},
     "output_type": "display_data"
    }
   ],
   "source": [
    "profile = ProfileReport(df_train)\n",
    "profile.to_widgets()"
   ]
  },
  {
   "cell_type": "code",
   "execution_count": 31,
   "id": "e1cc3bc2",
   "metadata": {},
   "outputs": [],
   "source": [
    "num_features = ['GP','MIN','PTS','FGM','FGA','FG%','3P Made','3PA','3P%','FTM','FTA','FT%','OREB','DREB','REB','AST','STL','BLK','TOV']"
   ]
  },
  {
   "cell_type": "code",
   "execution_count": 32,
   "id": "4cb22799",
   "metadata": {},
   "outputs": [
    {
     "data": {
      "text/plain": [
       "19"
      ]
     },
     "execution_count": 32,
     "metadata": {},
     "output_type": "execute_result"
    }
   ],
   "source": [
    "df_train[num_features].head()\n",
    "len(num_features)"
   ]
  },
  {
   "cell_type": "code",
   "execution_count": 33,
   "id": "853ad567",
   "metadata": {},
   "outputs": [
    {
     "name": "stdout",
     "output_type": "stream",
     "text": [
      "Discrete Variables Count: 0\n"
     ]
    },
    {
     "data": {
      "text/plain": [
       "[]"
      ]
     },
     "execution_count": 33,
     "metadata": {},
     "output_type": "execute_result"
    }
   ],
   "source": [
    "discrete_feature=[feature for feature in num_features if len(df_train[feature].unique())<25 ]\n",
    "print(\"Discrete Variables Count: {}\".format(len(discrete_feature)))\n",
    "discrete_feature"
   ]
  },
  {
   "cell_type": "code",
   "execution_count": 34,
   "id": "4e1249f3",
   "metadata": {},
   "outputs": [
    {
     "name": "stdout",
     "output_type": "stream",
     "text": [
      "Continuous feature Count 19\n"
     ]
    },
    {
     "data": {
      "image/png": "[encoded data removed]",
      "text/plain": [
       "<Figure size 432x288 with 1 Axes>"
      ]
     },
     "metadata": {
      "needs_background": "light"
     },
     "output_type": "display_data"
    },
    {
     "data": {
      "image/png": "[encoded data removed]",
      "text/plain": [
       "<Figure size 432x288 with 1 Axes>"
      ]
     },
     "metadata": {
      "needs_background": "light"
     },
     "output_type": "display_data"
    },
    {
     "data": {
      "image/png": "[encoded data removed]",
      "text/plain": [
       "<Figure size 432x288 with 1 Axes>"
      ]
     },
     "metadata": {
      "needs_background": "light"
     },
     "output_type": "display_data"
    },
    {
     "data": {
      "image/png": "[encoded data removed]",
      "text/plain": [
       "<Figure size 432x288 with 1 Axes>"
      ]
     },
     "metadata": {
      "needs_background": "light"
     },
     "output_type": "display_data"
    },
    {
     "data": {
      "image/png": "[encoded data removed]",
      "text/plain": [
       "<Figure size 432x288 with 1 Axes>"
      ]
     },
     "metadata": {
      "needs_background": "light"
     },
     "output_type": "display_data"
    },
    {
     "data": {
      "image/png": "[encoded data removed]",
      "text/plain": [
       "<Figure size 432x288 with 1 Axes>"
      ]
     },
     "metadata": {
      "needs_background": "light"
     },
     "output_type": "display_data"
    },
    {
     "data": {
      "image/png": "[encoded data removed]",
      "text/plain": [
       "<Figure size 432x288 with 1 Axes>"
      ]
     },
     "metadata": {
      "needs_background": "light"
     },
     "output_type": "display_data"
    },
    {
     "data": {
      "image/png": "[encoded data removed]",
      "text/plain": [
       "<Figure size 432x288 with 1 Axes>"
      ]
     },
     "metadata": {
      "needs_background": "light"
     },
     "output_type": "display_data"
    },
    {
     "data": {
      "image/png": "[encoded data removed]",
      "text/plain": [
       "<Figure size 432x288 with 1 Axes>"
      ]
     },
     "metadata": {
      "needs_background": "light"
     },
     "output_type": "display_data"
    }
   ],
   "source": [
    "continuous_feature=[feature for feature in num_features if feature not in discrete_feature]\n",
    "print(\"Continuous feature Count {}\".format(len(continuous_feature)))\n",
    "\n",
    "for feature in continuous_feature:\n",
    "    data=df_train.copy()\n",
    "    if 0 in df_train[feature].unique():\n",
    "        pass\n",
    "    else:\n",
    "        df_train.boxplot(column=feature)\n",
    "        plt.ylabel(feature)\n",
    "        plt.title(feature)\n",
    "        plt.show()\n",
    "         "
   ]
  },
  {
   "cell_type": "code",
   "execution_count": 35,
   "id": "24534d4e",
   "metadata": {},
   "outputs": [
    {
     "name": "stderr",
     "output_type": "stream",
     "text": [
      "/Users/harshkumar/opt/anaconda3/envs/iitg/lib/python3.8/site-packages/seaborn/_decorators.py:36: FutureWarning: Pass the following variable as a keyword arg: x. From version 0.12, the only valid positional argument will be `data`, and passing other arguments without an explicit keyword will result in an error or misinterpretation.\n",
      "  warnings.warn(\n"
     ]
    },
    {
     "data": {
      "text/plain": [
       "<AxesSubplot:xlabel='Target', ylabel='count'>"
      ]
     },
     "execution_count": 35,
     "metadata": {},
     "output_type": "execute_result"
    },
    {
     "data": {
      "image/png": "[encoded data removed]",
      "text/plain": [
       "<Figure size 432x288 with 1 Axes>"
      ]
     },
     "metadata": {
      "needs_background": "light"
     },
     "output_type": "display_data"
    }
   ],
   "source": [
    "snb.countplot(df_train['Target'])\n"
   ]
  },
  {
   "cell_type": "code",
   "execution_count": 36,
   "id": "e63097a2",
   "metadata": {},
   "outputs": [
    {
     "data": {
      "text/html": [
       "<div>\n",
       "<style scoped>\n",
       "    .dataframe tbody tr th:only-of-type {\n",
       "        vertical-align: middle;\n",
       "    }\n",
       "\n",
       "    .dataframe tbody tr th {\n",
       "        vertical-align: top;\n",
       "    }\n",
       "\n",
       "    .dataframe thead th {\n",
       "        text-align: right;\n",
       "    }\n",
       "</style>\n",
       "<table border=\"1\" class=\"dataframe\">\n",
       "  <thead>\n",
       "    <tr style=\"text-align: right;\">\n",
       "      <th></th>\n",
       "      <th>GP</th>\n",
       "      <th>MIN</th>\n",
       "      <th>PTS</th>\n",
       "      <th>FGM</th>\n",
       "      <th>FGA</th>\n",
       "      <th>FG%</th>\n",
       "      <th>3P Made</th>\n",
       "      <th>3PA</th>\n",
       "      <th>3P%</th>\n",
       "      <th>FTM</th>\n",
       "      <th>FTA</th>\n",
       "      <th>FT%</th>\n",
       "      <th>OREB</th>\n",
       "      <th>DREB</th>\n",
       "      <th>REB</th>\n",
       "      <th>AST</th>\n",
       "      <th>STL</th>\n",
       "      <th>BLK</th>\n",
       "      <th>TOV</th>\n",
       "      <th>Target</th>\n",
       "    </tr>\n",
       "  </thead>\n",
       "  <tbody>\n",
       "    <tr>\n",
       "      <th>0</th>\n",
       "      <td>59.0</td>\n",
       "      <td>12.8</td>\n",
       "      <td>3.4</td>\n",
       "      <td>1.3</td>\n",
       "      <td>2.6</td>\n",
       "      <td>51.0</td>\n",
       "      <td>0.2</td>\n",
       "      <td>0.3</td>\n",
       "      <td>50.0</td>\n",
       "      <td>0.7</td>\n",
       "      <td>0.8</td>\n",
       "      <td>78.0</td>\n",
       "      <td>1.1</td>\n",
       "      <td>2.3</td>\n",
       "      <td>3.3</td>\n",
       "      <td>0.5</td>\n",
       "      <td>0.3</td>\n",
       "      <td>0.4</td>\n",
       "      <td>0.5</td>\n",
       "      <td>1</td>\n",
       "    </tr>\n",
       "    <tr>\n",
       "      <th>1</th>\n",
       "      <td>31.0</td>\n",
       "      <td>10.7</td>\n",
       "      <td>3.4</td>\n",
       "      <td>1.2</td>\n",
       "      <td>3.3</td>\n",
       "      <td>35.3</td>\n",
       "      <td>0.5</td>\n",
       "      <td>2.1</td>\n",
       "      <td>25.8</td>\n",
       "      <td>0.5</td>\n",
       "      <td>0.9</td>\n",
       "      <td>55.2</td>\n",
       "      <td>0.3</td>\n",
       "      <td>1.1</td>\n",
       "      <td>1.4</td>\n",
       "      <td>0.4</td>\n",
       "      <td>0.3</td>\n",
       "      <td>0.1</td>\n",
       "      <td>0.2</td>\n",
       "      <td>0</td>\n",
       "    </tr>\n",
       "    <tr>\n",
       "      <th>2</th>\n",
       "      <td>48.0</td>\n",
       "      <td>9.3</td>\n",
       "      <td>4.5</td>\n",
       "      <td>1.7</td>\n",
       "      <td>3.4</td>\n",
       "      <td>49.7</td>\n",
       "      <td>0.0</td>\n",
       "      <td>0.1</td>\n",
       "      <td>0.0</td>\n",
       "      <td>1.2</td>\n",
       "      <td>1.9</td>\n",
       "      <td>61.5</td>\n",
       "      <td>0.4</td>\n",
       "      <td>0.8</td>\n",
       "      <td>1.2</td>\n",
       "      <td>0.8</td>\n",
       "      <td>0.5</td>\n",
       "      <td>0.4</td>\n",
       "      <td>1.0</td>\n",
       "      <td>0</td>\n",
       "    </tr>\n",
       "    <tr>\n",
       "      <th>3</th>\n",
       "      <td>80.0</td>\n",
       "      <td>27.7</td>\n",
       "      <td>11.2</td>\n",
       "      <td>3.5</td>\n",
       "      <td>9.4</td>\n",
       "      <td>37.4</td>\n",
       "      <td>1.3</td>\n",
       "      <td>4.1</td>\n",
       "      <td>32.9</td>\n",
       "      <td>2.8</td>\n",
       "      <td>3.3</td>\n",
       "      <td>85.0</td>\n",
       "      <td>0.8</td>\n",
       "      <td>1.6</td>\n",
       "      <td>2.4</td>\n",
       "      <td>3.9</td>\n",
       "      <td>1.3</td>\n",
       "      <td>0.1</td>\n",
       "      <td>2.2</td>\n",
       "      <td>1</td>\n",
       "    </tr>\n",
       "    <tr>\n",
       "      <th>4</th>\n",
       "      <td>58.0</td>\n",
       "      <td>18.4</td>\n",
       "      <td>5.8</td>\n",
       "      <td>1.9</td>\n",
       "      <td>5.3</td>\n",
       "      <td>36.7</td>\n",
       "      <td>0.0</td>\n",
       "      <td>0.1</td>\n",
       "      <td>25.0</td>\n",
       "      <td>1.9</td>\n",
       "      <td>3.1</td>\n",
       "      <td>61.7</td>\n",
       "      <td>0.5</td>\n",
       "      <td>0.7</td>\n",
       "      <td>1.2</td>\n",
       "      <td>1.9</td>\n",
       "      <td>1.1</td>\n",
       "      <td>0.2</td>\n",
       "      <td>1.7</td>\n",
       "      <td>0</td>\n",
       "    </tr>\n",
       "  </tbody>\n",
       "</table>\n",
       "</div>"
      ],
      "text/plain": [
       "     GP   MIN   PTS  FGM  FGA   FG%  3P Made  3PA   3P%  FTM  FTA   FT%  OREB  \\\n",
       "0  59.0  12.8   3.4  1.3  2.6  51.0      0.2  0.3  50.0  0.7  0.8  78.0   1.1   \n",
       "1  31.0  10.7   3.4  1.2  3.3  35.3      0.5  2.1  25.8  0.5  0.9  55.2   0.3   \n",
       "2  48.0   9.3   4.5  1.7  3.4  49.7      0.0  0.1   0.0  1.2  1.9  61.5   0.4   \n",
       "3  80.0  27.7  11.2  3.5  9.4  37.4      1.3  4.1  32.9  2.8  3.3  85.0   0.8   \n",
       "4  58.0  18.4   5.8  1.9  5.3  36.7      0.0  0.1  25.0  1.9  3.1  61.7   0.5   \n",
       "\n",
       "   DREB  REB  AST  STL  BLK  TOV  Target  \n",
       "0   2.3  3.3  0.5  0.3  0.4  0.5       1  \n",
       "1   1.1  1.4  0.4  0.3  0.1  0.2       0  \n",
       "2   0.8  1.2  0.8  0.5  0.4  1.0       0  \n",
       "3   1.6  2.4  3.9  1.3  0.1  2.2       1  \n",
       "4   0.7  1.2  1.9  1.1  0.2  1.7       0  "
      ]
     },
     "execution_count": 36,
     "metadata": {},
     "output_type": "execute_result"
    }
   ],
   "source": [
    "df_train.head()"
   ]
  },
  {
   "cell_type": "code",
   "execution_count": 37,
   "id": "2a5b45d7",
   "metadata": {},
   "outputs": [
    {
     "name": "stdout",
     "output_type": "stream",
     "text": [
      "Categorical variables:\n",
      "[]\n"
     ]
    }
   ],
   "source": [
    "s = (df_train.dtypes == 'object')\n",
    "cataegorical_cols = list(s[s].index)\n",
    "\n",
    "print(\"Categorical variables:\")\n",
    "print(cataegorical_cols)"
   ]
  },
  {
   "cell_type": "code",
   "execution_count": 38,
   "id": "1a03026f",
   "metadata": {},
   "outputs": [],
   "source": [
    "X = df_train[num_features]\n",
    "y = df_train['Target']"
   ]
  },
  {
   "cell_type": "code",
   "execution_count": null,
   "id": "3336fb2f",
   "metadata": {},
   "outputs": [],
   "source": []
  },
  {
   "cell_type": "code",
   "execution_count": 39,
   "id": "20387e98",
   "metadata": {},
   "outputs": [],
   "source": [
    "from sklearn.preprocessing import MinMaxScaler\n",
    "scaler = MinMaxScaler()\n"
   ]
  },
  {
   "cell_type": "code",
   "execution_count": 40,
   "id": "9b8e9cae",
   "metadata": {},
   "outputs": [
    {
     "data": {
      "text/html": [
       "<div>\n",
       "<style scoped>\n",
       "    .dataframe tbody tr th:only-of-type {\n",
       "        vertical-align: middle;\n",
       "    }\n",
       "\n",
       "    .dataframe tbody tr th {\n",
       "        vertical-align: top;\n",
       "    }\n",
       "\n",
       "    .dataframe thead th {\n",
       "        text-align: right;\n",
       "    }\n",
       "</style>\n",
       "<table border=\"1\" class=\"dataframe\">\n",
       "  <thead>\n",
       "    <tr style=\"text-align: right;\">\n",
       "      <th></th>\n",
       "      <th>GP</th>\n",
       "      <th>MIN</th>\n",
       "      <th>PTS</th>\n",
       "      <th>FGM</th>\n",
       "      <th>FGA</th>\n",
       "      <th>FG%</th>\n",
       "      <th>3P Made</th>\n",
       "      <th>3PA</th>\n",
       "      <th>3P%</th>\n",
       "      <th>FTM</th>\n",
       "      <th>FTA</th>\n",
       "      <th>FT%</th>\n",
       "      <th>OREB</th>\n",
       "      <th>DREB</th>\n",
       "      <th>REB</th>\n",
       "      <th>AST</th>\n",
       "      <th>STL</th>\n",
       "      <th>BLK</th>\n",
       "      <th>TOV</th>\n",
       "    </tr>\n",
       "  </thead>\n",
       "  <tbody>\n",
       "    <tr>\n",
       "      <th>0</th>\n",
       "      <td>0.676056</td>\n",
       "      <td>0.256614</td>\n",
       "      <td>0.099138</td>\n",
       "      <td>0.104651</td>\n",
       "      <td>0.089385</td>\n",
       "      <td>0.533881</td>\n",
       "      <td>0.086957</td>\n",
       "      <td>0.046154</td>\n",
       "      <td>0.500</td>\n",
       "      <td>0.093333</td>\n",
       "      <td>0.078431</td>\n",
       "      <td>0.780</td>\n",
       "      <td>0.207547</td>\n",
       "      <td>0.223404</td>\n",
       "      <td>0.220588</td>\n",
       "      <td>0.047170</td>\n",
       "      <td>0.12</td>\n",
       "      <td>0.102564</td>\n",
       "      <td>0.097561</td>\n",
       "    </tr>\n",
       "    <tr>\n",
       "      <th>1</th>\n",
       "      <td>0.281690</td>\n",
       "      <td>0.201058</td>\n",
       "      <td>0.099138</td>\n",
       "      <td>0.093023</td>\n",
       "      <td>0.128492</td>\n",
       "      <td>0.211499</td>\n",
       "      <td>0.217391</td>\n",
       "      <td>0.323077</td>\n",
       "      <td>0.258</td>\n",
       "      <td>0.066667</td>\n",
       "      <td>0.088235</td>\n",
       "      <td>0.552</td>\n",
       "      <td>0.056604</td>\n",
       "      <td>0.095745</td>\n",
       "      <td>0.080882</td>\n",
       "      <td>0.037736</td>\n",
       "      <td>0.12</td>\n",
       "      <td>0.025641</td>\n",
       "      <td>0.024390</td>\n",
       "    </tr>\n",
       "    <tr>\n",
       "      <th>2</th>\n",
       "      <td>0.521127</td>\n",
       "      <td>0.164021</td>\n",
       "      <td>0.146552</td>\n",
       "      <td>0.151163</td>\n",
       "      <td>0.134078</td>\n",
       "      <td>0.507187</td>\n",
       "      <td>0.000000</td>\n",
       "      <td>0.015385</td>\n",
       "      <td>0.000</td>\n",
       "      <td>0.160000</td>\n",
       "      <td>0.186275</td>\n",
       "      <td>0.615</td>\n",
       "      <td>0.075472</td>\n",
       "      <td>0.063830</td>\n",
       "      <td>0.066176</td>\n",
       "      <td>0.075472</td>\n",
       "      <td>0.20</td>\n",
       "      <td>0.102564</td>\n",
       "      <td>0.219512</td>\n",
       "    </tr>\n",
       "    <tr>\n",
       "      <th>3</th>\n",
       "      <td>0.971831</td>\n",
       "      <td>0.650794</td>\n",
       "      <td>0.435345</td>\n",
       "      <td>0.360465</td>\n",
       "      <td>0.469274</td>\n",
       "      <td>0.254620</td>\n",
       "      <td>0.565217</td>\n",
       "      <td>0.630769</td>\n",
       "      <td>0.329</td>\n",
       "      <td>0.373333</td>\n",
       "      <td>0.323529</td>\n",
       "      <td>0.850</td>\n",
       "      <td>0.150943</td>\n",
       "      <td>0.148936</td>\n",
       "      <td>0.154412</td>\n",
       "      <td>0.367925</td>\n",
       "      <td>0.52</td>\n",
       "      <td>0.025641</td>\n",
       "      <td>0.512195</td>\n",
       "    </tr>\n",
       "    <tr>\n",
       "      <th>4</th>\n",
       "      <td>0.661972</td>\n",
       "      <td>0.404762</td>\n",
       "      <td>0.202586</td>\n",
       "      <td>0.174419</td>\n",
       "      <td>0.240223</td>\n",
       "      <td>0.240246</td>\n",
       "      <td>0.000000</td>\n",
       "      <td>0.015385</td>\n",
       "      <td>0.250</td>\n",
       "      <td>0.253333</td>\n",
       "      <td>0.303922</td>\n",
       "      <td>0.617</td>\n",
       "      <td>0.094340</td>\n",
       "      <td>0.053191</td>\n",
       "      <td>0.066176</td>\n",
       "      <td>0.179245</td>\n",
       "      <td>0.44</td>\n",
       "      <td>0.051282</td>\n",
       "      <td>0.390244</td>\n",
       "    </tr>\n",
       "  </tbody>\n",
       "</table>\n",
       "</div>"
      ],
      "text/plain": [
       "         GP       MIN       PTS       FGM       FGA       FG%   3P Made  \\\n",
       "0  0.676056  0.256614  0.099138  0.104651  0.089385  0.533881  0.086957   \n",
       "1  0.281690  0.201058  0.099138  0.093023  0.128492  0.211499  0.217391   \n",
       "2  0.521127  0.164021  0.146552  0.151163  0.134078  0.507187  0.000000   \n",
       "3  0.971831  0.650794  0.435345  0.360465  0.469274  0.254620  0.565217   \n",
       "4  0.661972  0.404762  0.202586  0.174419  0.240223  0.240246  0.000000   \n",
       "\n",
       "        3PA    3P%       FTM       FTA    FT%      OREB      DREB       REB  \\\n",
       "0  0.046154  0.500  0.093333  0.078431  0.780  0.207547  0.223404  0.220588   \n",
       "1  0.323077  0.258  0.066667  0.088235  0.552  0.056604  0.095745  0.080882   \n",
       "2  0.015385  0.000  0.160000  0.186275  0.615  0.075472  0.063830  0.066176   \n",
       "3  0.630769  0.329  0.373333  0.323529  0.850  0.150943  0.148936  0.154412   \n",
       "4  0.015385  0.250  0.253333  0.303922  0.617  0.094340  0.053191  0.066176   \n",
       "\n",
       "        AST   STL       BLK       TOV  \n",
       "0  0.047170  0.12  0.102564  0.097561  \n",
       "1  0.037736  0.12  0.025641  0.024390  \n",
       "2  0.075472  0.20  0.102564  0.219512  \n",
       "3  0.367925  0.52  0.025641  0.512195  \n",
       "4  0.179245  0.44  0.051282  0.390244  "
      ]
     },
     "execution_count": 40,
     "metadata": {},
     "output_type": "execute_result"
    }
   ],
   "source": [
    "\n",
    "X_norm = X.copy()\n",
    "for i in num_features:\n",
    "    \n",
    "    # fit on training data column\n",
    "    scale = scaler.fit(X_norm[[i]])\n",
    "    \n",
    "    # transform the training data column\n",
    "    X_norm[i] = scale.transform(X_norm[[i]])\n",
    "\n",
    "    \n",
    "X_norm.head()"
   ]
  },
  {
   "cell_type": "code",
   "execution_count": 41,
   "id": "f357f28e",
   "metadata": {},
   "outputs": [
    {
     "data": {
      "text/html": [
       "<div>\n",
       "<style scoped>\n",
       "    .dataframe tbody tr th:only-of-type {\n",
       "        vertical-align: middle;\n",
       "    }\n",
       "\n",
       "    .dataframe tbody tr th {\n",
       "        vertical-align: top;\n",
       "    }\n",
       "\n",
       "    .dataframe thead th {\n",
       "        text-align: right;\n",
       "    }\n",
       "</style>\n",
       "<table border=\"1\" class=\"dataframe\">\n",
       "  <thead>\n",
       "    <tr style=\"text-align: right;\">\n",
       "      <th></th>\n",
       "      <th>GP</th>\n",
       "      <th>MIN</th>\n",
       "      <th>PTS</th>\n",
       "      <th>FGM</th>\n",
       "      <th>FGA</th>\n",
       "      <th>FG%</th>\n",
       "      <th>3P Made</th>\n",
       "      <th>3PA</th>\n",
       "      <th>3P%</th>\n",
       "      <th>FTM</th>\n",
       "      <th>FTA</th>\n",
       "      <th>FT%</th>\n",
       "      <th>OREB</th>\n",
       "      <th>DREB</th>\n",
       "      <th>REB</th>\n",
       "      <th>AST</th>\n",
       "      <th>STL</th>\n",
       "      <th>BLK</th>\n",
       "      <th>TOV</th>\n",
       "    </tr>\n",
       "  </thead>\n",
       "  <tbody>\n",
       "    <tr>\n",
       "      <th>0</th>\n",
       "      <td>-0.000212</td>\n",
       "      <td>-0.514362</td>\n",
       "      <td>-0.746223</td>\n",
       "      <td>-0.752992</td>\n",
       "      <td>-0.890260</td>\n",
       "      <td>1.157485</td>\n",
       "      <td>-0.113745</td>\n",
       "      <td>-0.457155</td>\n",
       "      <td>1.995067</td>\n",
       "      <td>-0.579535</td>\n",
       "      <td>-0.742715</td>\n",
       "      <td>0.724041</td>\n",
       "      <td>0.181806</td>\n",
       "      <td>0.268434</td>\n",
       "      <td>0.198136</td>\n",
       "      <td>-0.705396</td>\n",
       "      <td>-0.749219</td>\n",
       "      <td>0.133006</td>\n",
       "      <td>-0.945625</td>\n",
       "    </tr>\n",
       "    <tr>\n",
       "      <th>1</th>\n",
       "      <td>-1.628427</td>\n",
       "      <td>-0.775635</td>\n",
       "      <td>-0.746223</td>\n",
       "      <td>-0.815087</td>\n",
       "      <td>-0.685740</td>\n",
       "      <td>-1.415946</td>\n",
       "      <td>0.712218</td>\n",
       "      <td>1.312275</td>\n",
       "      <td>0.436377</td>\n",
       "      <td>-0.793350</td>\n",
       "      <td>-0.663910</td>\n",
       "      <td>-1.475844</td>\n",
       "      <td>-0.855613</td>\n",
       "      <td>-0.625194</td>\n",
       "      <td>-0.733456</td>\n",
       "      <td>-0.777955</td>\n",
       "      <td>-0.749219</td>\n",
       "      <td>-0.583414</td>\n",
       "      <td>-1.381639</td>\n",
       "    </tr>\n",
       "    <tr>\n",
       "      <th>2</th>\n",
       "      <td>-0.639868</td>\n",
       "      <td>-0.949816</td>\n",
       "      <td>-0.481838</td>\n",
       "      <td>-0.504615</td>\n",
       "      <td>-0.656523</td>\n",
       "      <td>0.944398</td>\n",
       "      <td>-0.664388</td>\n",
       "      <td>-0.653759</td>\n",
       "      <td>-1.225368</td>\n",
       "      <td>-0.044998</td>\n",
       "      <td>0.124131</td>\n",
       "      <td>-0.867981</td>\n",
       "      <td>-0.725936</td>\n",
       "      <td>-0.848601</td>\n",
       "      <td>-0.831518</td>\n",
       "      <td>-0.487718</td>\n",
       "      <td>-0.231982</td>\n",
       "      <td>0.133006</td>\n",
       "      <td>-0.218936</td>\n",
       "    </tr>\n",
       "    <tr>\n",
       "      <th>3</th>\n",
       "      <td>1.220950</td>\n",
       "      <td>1.339430</td>\n",
       "      <td>1.128507</td>\n",
       "      <td>0.613083</td>\n",
       "      <td>1.096507</td>\n",
       "      <td>-1.071729</td>\n",
       "      <td>2.914789</td>\n",
       "      <td>3.278309</td>\n",
       "      <td>0.893679</td>\n",
       "      <td>1.665519</td>\n",
       "      <td>1.227389</td>\n",
       "      <td>1.399444</td>\n",
       "      <td>-0.207226</td>\n",
       "      <td>-0.252849</td>\n",
       "      <td>-0.243144</td>\n",
       "      <td>1.761616</td>\n",
       "      <td>1.836966</td>\n",
       "      <td>-0.583414</td>\n",
       "      <td>1.525119</td>\n",
       "    </tr>\n",
       "    <tr>\n",
       "      <th>4</th>\n",
       "      <td>-0.058362</td>\n",
       "      <td>0.182365</td>\n",
       "      <td>-0.169383</td>\n",
       "      <td>-0.380426</td>\n",
       "      <td>-0.101397</td>\n",
       "      <td>-1.186468</td>\n",
       "      <td>-0.664388</td>\n",
       "      <td>-0.653759</td>\n",
       "      <td>0.384850</td>\n",
       "      <td>0.703353</td>\n",
       "      <td>1.069781</td>\n",
       "      <td>-0.848684</td>\n",
       "      <td>-0.596259</td>\n",
       "      <td>-0.923070</td>\n",
       "      <td>-0.831518</td>\n",
       "      <td>0.310433</td>\n",
       "      <td>1.319729</td>\n",
       "      <td>-0.344608</td>\n",
       "      <td>0.798429</td>\n",
       "    </tr>\n",
       "  </tbody>\n",
       "</table>\n",
       "</div>"
      ],
      "text/plain": [
       "         GP       MIN       PTS       FGM       FGA       FG%   3P Made  \\\n",
       "0 -0.000212 -0.514362 -0.746223 -0.752992 -0.890260  1.157485 -0.113745   \n",
       "1 -1.628427 -0.775635 -0.746223 -0.815087 -0.685740 -1.415946  0.712218   \n",
       "2 -0.639868 -0.949816 -0.481838 -0.504615 -0.656523  0.944398 -0.664388   \n",
       "3  1.220950  1.339430  1.128507  0.613083  1.096507 -1.071729  2.914789   \n",
       "4 -0.058362  0.182365 -0.169383 -0.380426 -0.101397 -1.186468 -0.664388   \n",
       "\n",
       "        3PA       3P%       FTM       FTA       FT%      OREB      DREB  \\\n",
       "0 -0.457155  1.995067 -0.579535 -0.742715  0.724041  0.181806  0.268434   \n",
       "1  1.312275  0.436377 -0.793350 -0.663910 -1.475844 -0.855613 -0.625194   \n",
       "2 -0.653759 -1.225368 -0.044998  0.124131 -0.867981 -0.725936 -0.848601   \n",
       "3  3.278309  0.893679  1.665519  1.227389  1.399444 -0.207226 -0.252849   \n",
       "4 -0.653759  0.384850  0.703353  1.069781 -0.848684 -0.596259 -0.923070   \n",
       "\n",
       "        REB       AST       STL       BLK       TOV  \n",
       "0  0.198136 -0.705396 -0.749219  0.133006 -0.945625  \n",
       "1 -0.733456 -0.777955 -0.749219 -0.583414 -1.381639  \n",
       "2 -0.831518 -0.487718 -0.231982  0.133006 -0.218936  \n",
       "3 -0.243144  1.761616  1.836966 -0.583414  1.525119  \n",
       "4 -0.831518  0.310433  1.319729 -0.344608  0.798429  "
      ]
     },
     "execution_count": 41,
     "metadata": {},
     "output_type": "execute_result"
    }
   ],
   "source": [
    "from sklearn.preprocessing import StandardScaler\n",
    "X_stand = X.copy()\n",
    "for i in num_features:\n",
    "    \n",
    "    # fit on training data column\n",
    "    scale = StandardScaler().fit(X_stand[[i]])\n",
    "    \n",
    "    # transform the training data column\n",
    "    X_stand[i] = scale.transform(X_stand[[i]])\n",
    "    \n",
    "X_stand.head()"
   ]
  },
  {
   "cell_type": "code",
   "execution_count": 42,
   "id": "5b1685b4",
   "metadata": {},
   "outputs": [],
   "source": [
    "from sklearn.model_selection import train_test_split\n",
    "X_train, X_test, y_train, y_test = train_test_split(X,y,test_size=0.25,random_state=42)\n",
    "X_train_norm, X_test_norm, y_train_norm, y_test_norm = train_test_split(X_norm,y,test_size=0.25,random_state=42)\n",
    "X_train_stand, X_test_stand, y_train_stand, y_test_stand = train_test_split(X_stand,y,test_size=0.25,random_state=42)"
   ]
  },
  {
   "cell_type": "code",
   "execution_count": 43,
   "id": "5bfcc6b3",
   "metadata": {},
   "outputs": [],
   "source": [
    "from sklearn.naive_bayes import GaussianNB\n",
    "from sklearn.linear_model import LogisticRegression\n",
    "from sklearn.neighbors import KNeighborsClassifier\n",
    "from sklearn.tree import DecisionTreeClassifier\n",
    "from sklearn.ensemble import RandomForestClassifier\n",
    "from xgboost import XGBClassifier, XGBRFClassifier\n",
    "from xgboost import plot_tree, plot_importance\n",
    "from sklearn.ensemble import AdaBoostClassifier\n",
    "from sklearn import svm\n",
    "\n",
    "from sklearn.metrics import accuracy_score"
   ]
  },
  {
   "cell_type": "code",
   "execution_count": 44,
   "id": "a230fc14",
   "metadata": {},
   "outputs": [],
   "source": [
    "def score(model,X_tr, y_tr, X_tst,y_tst, title = \"Default\"):\n",
    "    model.fit(X_tr, y_tr)\n",
    "    preds = model.predict(X_tst)\n",
    "    accuracy = round(accuracy_score(y_tst, preds), 5)\n",
    "    print('Accuracy for', title, ':', accuracy, '\\n')"
   ]
  },
  {
   "cell_type": "code",
   "execution_count": 45,
   "id": "d12a63a0",
   "metadata": {},
   "outputs": [
    {
     "name": "stdout",
     "output_type": "stream",
     "text": [
      "Accuracy for Logistic Regression : 0.70073 \n",
      "\n"
     ]
    }
   ],
   "source": [
    "lg = LogisticRegression(random_state=0, solver='lbfgs', multi_class='multinomial')\n",
    "score(lg,X_train_stand, y_train_stand, X_test_stand,y_test_stand,  \"Logistic Regression\")"
   ]
  },
  {
   "cell_type": "code",
   "execution_count": 68,
   "id": "f0a59adb",
   "metadata": {},
   "outputs": [
    {
     "name": "stdout",
     "output_type": "stream",
     "text": [
      "Accuracy for Random Forest : 0.70803 \n",
      "\n"
     ]
    }
   ],
   "source": [
    "rf = RandomForestClassifier(n_estimators=3000,max_depth = 25,random_state = 42)#(n_estimators=1000,max_depth=10,random_state=0)\n",
    "score(rf,X_train, y_train, X_test,y_test,\"Random Forest\")"
   ]
  },
  {
   "cell_type": "code",
   "execution_count": 47,
   "id": "0b6ba619",
   "metadata": {},
   "outputs": [
    {
     "name": "stdout",
     "output_type": "stream",
     "text": [
      "Accuracy for GaussianNB : 0.71898 \n",
      "\n",
      "Accuracy for KNeighborsClassifier : 0.71898 \n",
      "\n",
      "Accuracy for DecisionTreeClassifier : 0.65328 \n",
      "\n"
     ]
    }
   ],
   "source": [
    "# Naive Bayes: GaussianNB\n",
    "#YOUR CODE HERE\n",
    "gnb = GaussianNB()\n",
    "score(gnb,X_train_stand, y_train_stand, X_test_stand,y_test_stand,\"GaussianNB\")\n",
    "\n",
    "# KNN: KNeighborsClassifier\n",
    "#YOUR CODE HERE\n",
    "knc = KNeighborsClassifier()\n",
    "score(knc,X_train_stand, y_train_stand, X_test_stand,y_test_stand,\"KNeighborsClassifier\")\n",
    "\n",
    "# Decission trees: DecisionTreeClassifier\n",
    "#YOUR CODE HERE\n",
    "dtc = DecisionTreeClassifier()\n",
    "score(dtc,X_train_stand, y_train_stand, X_test_stand,y_test_stand,\"DecisionTreeClassifier\")"
   ]
  },
  {
   "cell_type": "code",
   "execution_count": 48,
   "id": "322dd9c5",
   "metadata": {},
   "outputs": [
    {
     "name": "stdout",
     "output_type": "stream",
     "text": [
      "Accuracy for GaussianNB : 0.71898 \n",
      "\n",
      "Accuracy for Random Forest : 0.71533 \n",
      "\n"
     ]
    }
   ],
   "source": [
    "gnb = GaussianNB()\n",
    "score(gnb,X_train, y_train, X_test,y_test,\"GaussianNB\")\n",
    "\n",
    "rf = RandomForestClassifier(n_estimators=100,max_depth=1000,random_state=0)\n",
    "score(rf,X_train, y_train, X_test,y_test,\"Random Forest\")"
   ]
  },
  {
   "cell_type": "code",
   "execution_count": 49,
   "id": "a5cfebd4",
   "metadata": {},
   "outputs": [
    {
     "name": "stdout",
     "output_type": "stream",
     "text": [
      "Accuracy for SVM : 0.69343 \n",
      "\n"
     ]
    }
   ],
   "source": [
    "clf_svm = svm.SVC(random_state = 2022, C=5, gamma='scale', kernel='rbf', probability=True)\n",
    "score(clf_svm,X_train, y_train, X_test,y_test,\"SVM\")"
   ]
  },
  {
   "cell_type": "code",
   "execution_count": 50,
   "id": "6a0477e5",
   "metadata": {},
   "outputs": [
    {
     "name": "stdout",
     "output_type": "stream",
     "text": [
      "Accuracy for XGBRFClassifier : 0.66058 \n",
      "\n"
     ]
    }
   ],
   "source": [
    "xgbrf = XGBRFClassifier(n_estimators=500,learning_rate=0.1)\n",
    "score(xgbrf,X_train, y_train, X_test,y_test,\"XGBRFClassifier\")"
   ]
  },
  {
   "cell_type": "code",
   "execution_count": 59,
   "id": "caebdc48",
   "metadata": {},
   "outputs": [],
   "source": [
    "from sklearn import svm\n",
    "from sklearn.ensemble import RandomForestClassifier\n",
    "from sklearn.linear_model import LogisticRegression\n",
    "\n",
    "model_params = {\n",
    "    'svm': {\n",
    "        'model': svm.SVC(gamma='auto'),\n",
    "        'params' : {\n",
    "            'C': [1,10,20,350],\n",
    "            'kernel': ['rbf','linear']\n",
    "        }  \n",
    "    },\n",
    "    'random_forest': {\n",
    "        'model': RandomForestClassifier(),\n",
    "        'params' : {\n",
    "            'n_estimators': [1,5,10,2100]\n",
    "        }\n",
    "    },\n",
    "    'logistic_regression' : {\n",
    "        'model': LogisticRegression(solver='liblinear',multi_class='auto'),\n",
    "        'params': {\n",
    "            'C': [1,5,10,270]\n",
    "        }\n",
    "    }\n",
    "}"
   ]
  },
  {
   "cell_type": "code",
   "execution_count": 60,
   "id": "92cf9a42",
   "metadata": {},
   "outputs": [
    {
     "data": {
      "text/html": [
       "<div>\n",
       "<style scoped>\n",
       "    .dataframe tbody tr th:only-of-type {\n",
       "        vertical-align: middle;\n",
       "    }\n",
       "\n",
       "    .dataframe tbody tr th {\n",
       "        vertical-align: top;\n",
       "    }\n",
       "\n",
       "    .dataframe thead th {\n",
       "        text-align: right;\n",
       "    }\n",
       "</style>\n",
       "<table border=\"1\" class=\"dataframe\">\n",
       "  <thead>\n",
       "    <tr style=\"text-align: right;\">\n",
       "      <th></th>\n",
       "      <th>model</th>\n",
       "      <th>best_score</th>\n",
       "      <th>best_params</th>\n",
       "    </tr>\n",
       "  </thead>\n",
       "  <tbody>\n",
       "    <tr>\n",
       "      <th>0</th>\n",
       "      <td>svm</td>\n",
       "      <td>0.701220</td>\n",
       "      <td>{'C': 1, 'kernel': 'rbf'}</td>\n",
       "    </tr>\n",
       "    <tr>\n",
       "      <th>1</th>\n",
       "      <td>random_forest</td>\n",
       "      <td>0.734146</td>\n",
       "      <td>{'n_estimators': 2100}</td>\n",
       "    </tr>\n",
       "    <tr>\n",
       "      <th>2</th>\n",
       "      <td>logistic_regression</td>\n",
       "      <td>0.693902</td>\n",
       "      <td>{'C': 5}</td>\n",
       "    </tr>\n",
       "  </tbody>\n",
       "</table>\n",
       "</div>"
      ],
      "text/plain": [
       "                 model  best_score                best_params\n",
       "0                  svm    0.701220  {'C': 1, 'kernel': 'rbf'}\n",
       "1        random_forest    0.734146     {'n_estimators': 2100}\n",
       "2  logistic_regression    0.693902                   {'C': 5}"
      ]
     },
     "execution_count": 60,
     "metadata": {},
     "output_type": "execute_result"
    }
   ],
   "source": [
    "scores = []\n",
    "from sklearn import svm, datasets\n",
    "from sklearn.model_selection import GridSearchCV\n",
    "for model_name, mp in model_params.items():\n",
    "    clf =  GridSearchCV(mp['model'], mp['params'], cv=5, return_train_score=False)\n",
    "    clf.fit(X_train, y_train)\n",
    "    scores.append({\n",
    "        'model': model_name,\n",
    "        'best_score': clf.best_score_,\n",
    "        'best_params': clf.best_params_\n",
    "    })\n",
    "    \n",
    "df = pd.DataFrame(scores,columns=['model','best_score','best_params'])\n",
    "df"
   ]
  },
  {
   "cell_type": "code",
   "execution_count": 182,
   "id": "8922339f",
   "metadata": {},
   "outputs": [
    {
     "data": {
      "text/html": [
       "<div>\n",
       "<style scoped>\n",
       "    .dataframe tbody tr th:only-of-type {\n",
       "        vertical-align: middle;\n",
       "    }\n",
       "\n",
       "    .dataframe tbody tr th {\n",
       "        vertical-align: top;\n",
       "    }\n",
       "\n",
       "    .dataframe thead th {\n",
       "        text-align: right;\n",
       "    }\n",
       "</style>\n",
       "<table border=\"1\" class=\"dataframe\">\n",
       "  <thead>\n",
       "    <tr style=\"text-align: right;\">\n",
       "      <th></th>\n",
       "      <th>Unnamed: 0</th>\n",
       "      <th>0</th>\n",
       "    </tr>\n",
       "  </thead>\n",
       "  <tbody>\n",
       "    <tr>\n",
       "      <th>0</th>\n",
       "      <td>0</td>\n",
       "      <td>0</td>\n",
       "    </tr>\n",
       "    <tr>\n",
       "      <th>1</th>\n",
       "      <td>1</td>\n",
       "      <td>0</td>\n",
       "    </tr>\n",
       "    <tr>\n",
       "      <th>2</th>\n",
       "      <td>2</td>\n",
       "      <td>0</td>\n",
       "    </tr>\n",
       "    <tr>\n",
       "      <th>3</th>\n",
       "      <td>3</td>\n",
       "      <td>0</td>\n",
       "    </tr>\n",
       "    <tr>\n",
       "      <th>4</th>\n",
       "      <td>4</td>\n",
       "      <td>1</td>\n",
       "    </tr>\n",
       "    <tr>\n",
       "      <th>5</th>\n",
       "      <td>5</td>\n",
       "      <td>0</td>\n",
       "    </tr>\n",
       "    <tr>\n",
       "      <th>6</th>\n",
       "      <td>6</td>\n",
       "      <td>1</td>\n",
       "    </tr>\n",
       "    <tr>\n",
       "      <th>7</th>\n",
       "      <td>7</td>\n",
       "      <td>0</td>\n",
       "    </tr>\n",
       "    <tr>\n",
       "      <th>8</th>\n",
       "      <td>8</td>\n",
       "      <td>0</td>\n",
       "    </tr>\n",
       "    <tr>\n",
       "      <th>9</th>\n",
       "      <td>9</td>\n",
       "      <td>0</td>\n",
       "    </tr>\n",
       "  </tbody>\n",
       "</table>\n",
       "</div>"
      ],
      "text/plain": [
       "   Unnamed: 0  0\n",
       "0           0  0\n",
       "1           1  0\n",
       "2           2  0\n",
       "3           3  0\n",
       "4           4  1\n",
       "5           5  0\n",
       "6           6  1\n",
       "7           7  0\n",
       "8           8  0\n",
       "9           9  0"
      ]
     },
     "execution_count": 182,
     "metadata": {},
     "output_type": "execute_result"
    }
   ],
   "source": [
    "pred_test = rf.predict(X_test_sub)\n",
    "pred_test\n",
    "pd.DataFrame(pred_test).to_csv('sample.csv')\n",
    "ans = pd.read_csv('sample.csv')\n",
    "ans.head(10)\n",
    "\n"
   ]
  },
  {
   "cell_type": "code",
   "execution_count": 183,
   "id": "5aa978e5",
   "metadata": {},
   "outputs": [
    {
     "data": {
      "text/html": [
       "<div>\n",
       "<style scoped>\n",
       "    .dataframe tbody tr th:only-of-type {\n",
       "        vertical-align: middle;\n",
       "    }\n",
       "\n",
       "    .dataframe tbody tr th {\n",
       "        vertical-align: top;\n",
       "    }\n",
       "\n",
       "    .dataframe thead th {\n",
       "        text-align: right;\n",
       "    }\n",
       "</style>\n",
       "<table border=\"1\" class=\"dataframe\">\n",
       "  <thead>\n",
       "    <tr style=\"text-align: right;\">\n",
       "      <th></th>\n",
       "      <th>Unnamed: 0</th>\n",
       "      <th>prediction</th>\n",
       "    </tr>\n",
       "  </thead>\n",
       "  <tbody>\n",
       "    <tr>\n",
       "      <th>0</th>\n",
       "      <td>0</td>\n",
       "      <td>0</td>\n",
       "    </tr>\n",
       "    <tr>\n",
       "      <th>1</th>\n",
       "      <td>1</td>\n",
       "      <td>0</td>\n",
       "    </tr>\n",
       "    <tr>\n",
       "      <th>2</th>\n",
       "      <td>2</td>\n",
       "      <td>0</td>\n",
       "    </tr>\n",
       "    <tr>\n",
       "      <th>3</th>\n",
       "      <td>3</td>\n",
       "      <td>0</td>\n",
       "    </tr>\n",
       "    <tr>\n",
       "      <th>4</th>\n",
       "      <td>4</td>\n",
       "      <td>1</td>\n",
       "    </tr>\n",
       "  </tbody>\n",
       "</table>\n",
       "</div>"
      ],
      "text/plain": [
       "   Unnamed: 0  prediction\n",
       "0           0           0\n",
       "1           1           0\n",
       "2           2           0\n",
       "3           3           0\n",
       "4           4           1"
      ]
     },
     "execution_count": 183,
     "metadata": {},
     "output_type": "execute_result"
    }
   ],
   "source": [
    "ans.rename(columns = {'0':'prediction'}, inplace = True)\n",
    "ans.head()"
   ]
  },
  {
   "cell_type": "code",
   "execution_count": 184,
   "id": "dfd96c96",
   "metadata": {},
   "outputs": [
    {
     "name": "stdout",
     "output_type": "stream",
     "text": [
      "Index(['Unnamed: 0', 'prediction'], dtype='object')\n"
     ]
    }
   ],
   "source": [
    "print(ans.columns)"
   ]
  },
  {
   "cell_type": "code",
   "execution_count": 185,
   "id": "88f09bed",
   "metadata": {},
   "outputs": [],
   "source": [
    "ans.drop(['Unnamed: 0'], axis = 1,inplace = True)"
   ]
  },
  {
   "cell_type": "code",
   "execution_count": 186,
   "id": "4b86d04b",
   "metadata": {},
   "outputs": [
    {
     "data": {
      "text/html": [
       "<div>\n",
       "<style scoped>\n",
       "    .dataframe tbody tr th:only-of-type {\n",
       "        vertical-align: middle;\n",
       "    }\n",
       "\n",
       "    .dataframe tbody tr th {\n",
       "        vertical-align: top;\n",
       "    }\n",
       "\n",
       "    .dataframe thead th {\n",
       "        text-align: right;\n",
       "    }\n",
       "</style>\n",
       "<table border=\"1\" class=\"dataframe\">\n",
       "  <thead>\n",
       "    <tr style=\"text-align: right;\">\n",
       "      <th></th>\n",
       "      <th>prediction</th>\n",
       "    </tr>\n",
       "  </thead>\n",
       "  <tbody>\n",
       "    <tr>\n",
       "      <th>0</th>\n",
       "      <td>0</td>\n",
       "    </tr>\n",
       "    <tr>\n",
       "      <th>1</th>\n",
       "      <td>0</td>\n",
       "    </tr>\n",
       "    <tr>\n",
       "      <th>2</th>\n",
       "      <td>0</td>\n",
       "    </tr>\n",
       "    <tr>\n",
       "      <th>3</th>\n",
       "      <td>0</td>\n",
       "    </tr>\n",
       "    <tr>\n",
       "      <th>4</th>\n",
       "      <td>1</td>\n",
       "    </tr>\n",
       "  </tbody>\n",
       "</table>\n",
       "</div>"
      ],
      "text/plain": [
       "   prediction\n",
       "0           0\n",
       "1           0\n",
       "2           0\n",
       "3           0\n",
       "4           1"
      ]
     },
     "execution_count": 186,
     "metadata": {},
     "output_type": "execute_result"
    }
   ],
   "source": [
    "ans.head()"
   ]
  },
  {
   "cell_type": "code",
   "execution_count": 187,
   "id": "128da7ae",
   "metadata": {},
   "outputs": [],
   "source": [
    "ans.to_csv('result.csv',index= False)"
   ]
  },
  {
   "cell_type": "code",
   "execution_count": null,
   "id": "76c16aaf",
   "metadata": {},
   "outputs": [],
   "source": []
  },
  {
   "cell_type": "code",
   "execution_count": null,
   "id": "2acfc346",
   "metadata": {},
   "outputs": [],
   "source": []
  },
  {
   "cell_type": "code",
   "execution_count": null,
   "id": "499ee340",
   "metadata": {},
   "outputs": [],
   "source": []
  },
  {
   "cell_type": "code",
   "execution_count": null,
   "id": "a52ae6db",
   "metadata": {},
   "outputs": [],
   "source": []
  },
  {
   "cell_type": "code",
   "execution_count": null,
   "id": "fe978588",
   "metadata": {},
   "outputs": [],
   "source": []
  },
  {
   "cell_type": "code",
   "execution_count": null,
   "id": "3f349d2c",
   "metadata": {},
   "outputs": [],
   "source": []
  }
 ],
 "metadata": {
  "kernelspec": {
   "display_name": "Python 3 (ipykernel)",
   "language": "python",
   "name": "python3"
  },
  "language_info": {
   "codemirror_mode": {
    "name": "ipython",
    "version": 3
   },
   "file_extension": ".py",
   "mimetype": "text/x-python",
   "name": "python",
   "nbconvert_exporter": "python",
   "pygments_lexer": "ipython3",
   "version": "3.8.13"
  }
 },
 "nbformat": 4,
 "nbformat_minor": 5
}
